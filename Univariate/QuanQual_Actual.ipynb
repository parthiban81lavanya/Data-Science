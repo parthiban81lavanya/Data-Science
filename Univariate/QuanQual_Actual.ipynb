{
 "cells": [
  {
   "cell_type": "code",
   "execution_count": 12,
   "id": "acb76fe0-bcf8-4f48-a10f-24b69c3a2df4",
   "metadata": {},
   "outputs": [],
   "source": [
    "from Univariate import Univariate\n",
    "#obj = Univariate()\n"
   ]
  },
  {
   "cell_type": "code",
   "execution_count": 13,
   "id": "11b87f82-9981-48d4-b783-a1ec4e901961",
   "metadata": {},
   "outputs": [],
   "source": [
    "import pandas as pd\n",
    "dataset = pd.read_csv(\"Placement.csv\")"
   ]
  },
  {
   "cell_type": "code",
   "execution_count": 14,
   "id": "d749f1e9-ffeb-4964-9bdc-16cae9db5101",
   "metadata": {},
   "outputs": [],
   "source": [
    "#quanqual(dataset)"
   ]
  },
  {
   "cell_type": "code",
   "execution_count": 28,
   "id": "52a2d6ee-48eb-43f2-b9fc-379363e44e26",
   "metadata": {},
   "outputs": [
    {
     "data": {
      "text/plain": [
       "(['sl_no', 'ssc_p', 'hsc_p', 'degree_p', 'etest_p', 'mba_p', 'salary'],\n",
       " ['gender',\n",
       "  'ssc_b',\n",
       "  'hsc_b',\n",
       "  'hsc_s',\n",
       "  'degree_t',\n",
       "  'workex',\n",
       "  'specialisation',\n",
       "  'status'])"
      ]
     },
     "execution_count": 28,
     "metadata": {},
     "output_type": "execute_result"
    }
   ],
   "source": [
    "#quan,qual=obj.quanqual(dataset)  \n",
    "quan,qual=Univariate.quanqual(dataset)\n",
    "quan,qual"
   ]
  },
  {
   "cell_type": "code",
   "execution_count": 21,
   "id": "f5942013-ba34-4c6f-a868-2f3823f2e78d",
   "metadata": {},
   "outputs": [
    {
     "data": {
      "text/plain": [
       "['sl_no', 'ssc_p', 'hsc_p', 'degree_p', 'etest_p', 'mba_p', 'salary']"
      ]
     },
     "execution_count": 21,
     "metadata": {},
     "output_type": "execute_result"
    }
   ],
   "source": [
    "quan"
   ]
  },
  {
   "cell_type": "code",
   "execution_count": 22,
   "id": "6e77f08a-c40b-4417-992e-0f273f5a6de7",
   "metadata": {},
   "outputs": [
    {
     "data": {
      "text/plain": [
       "['gender',\n",
       " 'ssc_b',\n",
       " 'hsc_b',\n",
       " 'hsc_s',\n",
       " 'degree_t',\n",
       " 'workex',\n",
       " 'specialisation',\n",
       " 'status']"
      ]
     },
     "execution_count": 22,
     "metadata": {},
     "output_type": "execute_result"
    }
   ],
   "source": [
    "qual"
   ]
  },
  {
   "cell_type": "code",
   "execution_count": null,
   "id": "1707e661-c2ef-4645-b4f9-407e67200f8e",
   "metadata": {},
   "outputs": [],
   "source": []
  }
 ],
 "metadata": {
  "kernelspec": {
   "display_name": "Python 3 (ipykernel)",
   "language": "python",
   "name": "python3"
  },
  "language_info": {
   "codemirror_mode": {
    "name": "ipython",
    "version": 3
   },
   "file_extension": ".py",
   "mimetype": "text/x-python",
   "name": "python",
   "nbconvert_exporter": "python",
   "pygments_lexer": "ipython3",
   "version": "3.12.7"
  }
 },
 "nbformat": 4,
 "nbformat_minor": 5
}
